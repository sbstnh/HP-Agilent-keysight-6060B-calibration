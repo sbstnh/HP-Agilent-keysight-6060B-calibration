{
 "cells": [
  {
   "cell_type": "markdown",
   "metadata": {},
   "source": [
    "# HP/Agilent/Keysight 6060B System DC Electronic Load calibration\n",
    "\n",
    "Use this script as a starting point only. It might contain bugs."
   ]
  },
  {
   "cell_type": "markdown",
   "metadata": {},
   "source": [
    "## User and calibration point settings\n",
    "\n",
    "### Connection settings"
   ]
  },
  {
   "cell_type": "code",
   "execution_count": 30,
   "metadata": {},
   "outputs": [],
   "source": [
    "load_res_id = \"GPIB0::12::INSTR\""
   ]
  },
  {
   "cell_type": "markdown",
   "metadata": {},
   "source": [
    "### Calibration settings and points"
   ]
  },
  {
   "cell_type": "markdown",
   "metadata": {},
   "source": [
    "When cal_save is off, the calibration values are not automatically stored and will be lost if power is cycled before sending `CAL:SAVE`"
   ]
  },
  {
   "cell_type": "code",
   "execution_count": 31,
   "metadata": {},
   "outputs": [],
   "source": [
    "cal_save = True"
   ]
  },
  {
   "cell_type": "markdown",
   "metadata": {},
   "source": [
    "The modifier scales certain values up or down (default = 1). This can be used to calibrate the unit even if the power supplies/current meters used do not cover the range of required settings fully. Before changing understand the code. Be careful as this might DEGRADE the performance of the unit and IS NOT how HP specified the calibration/adjustment procedure."
   ]
  },
  {
   "cell_type": "code",
   "execution_count": 32,
   "metadata": {},
   "outputs": [],
   "source": [
    "cal_set_curr_rng_hi = { \"current_range\": 60, \"current_offset\": 0.0282, \"power_supply\": { \"voltage\": 5, \"current\": 61}, \"flag\": True, \"modifier\": 1}\n",
    "cal_set_curr_rng_lo = { \"current_range\": 6, \"current_offset\": 0.0197, \"power_supply\": { \"voltage\": 5, \"current\": 10}, \"flag\": False, \"modifier\": 1}\n",
    "\n",
    "cal_set_volt = { \"voltage_high\": 60, \"voltage_low\": 2.7, \"power_supply\": {\"voltage\": 61, \"current\": 5}}\n",
    "\n",
    "cal_set_res_rng_lo = { \"res_range\": 1, \"res_low\": 0.04, \"res_high\": 1, \"power_supply\": {\"voltage\": 15, \"current\": 10.9}, \"flag\": False, \"modifier\": 1}\n",
    "cal_set_res_rng_med = { \"res_range\": 10, \"res_low\": 1, \"res_high\": 30, \"power_supply\": {\"voltage\": 10.9, \"current\": 15}, \"flag\": True, \"modifier\": 1}\n",
    "cal_set_res_rng_hi = { \"res_range\": 1001, \"res_low\": 12, \"res_high\": 120, \"power_supply\": {\"voltage\": 60, \"current\": 6}, \"flag\": True, \"modifier\": 1}"
   ]
  },
  {
   "cell_type": "markdown",
   "metadata": {},
   "source": [
    "## Imports"
   ]
  },
  {
   "cell_type": "code",
   "execution_count": 33,
   "metadata": {},
   "outputs": [],
   "source": [
    "import sys\n",
    "sys.path.insert(0, \".\")\n",
    "\n",
    "import pyvisa\n",
    "import numpy as np\n",
    "import pandas as pd\n",
    "from time import sleep\n",
    "from datetime import datetime\n",
    "from pathlib import Path\n",
    "\n",
    "from scpi_helper import open_scpi_device, setup_scpi_device, scpi_bool"
   ]
  },
  {
   "cell_type": "markdown",
   "metadata": {},
   "source": [
    "## Helper functions"
   ]
  },
  {
   "cell_type": "code",
   "execution_count": 34,
   "metadata": {},
   "outputs": [],
   "source": [
    "def confirm(text, proceed_on_empty=True):\n",
    "    \"\"\"\n",
    "    Ask for confirmation before proceeding to the next step.\n",
    "\n",
    "    \n",
    "    \"\"\"\n",
    "    while True:\n",
    "        inp_result = input(text + \" (y: proceed, a: abort)\").strip()\n",
    "        if inp_result == 'y' or (proceed_on_empty and inp_result == ''):\n",
    "            break\n",
    "        if inp_result == 'a':\n",
    "            raise KeyboardInterrupt(\"Aborted\")\n",
    "    \n",
    "    return True"
   ]
  },
  {
   "cell_type": "code",
   "execution_count": 35,
   "metadata": {},
   "outputs": [],
   "source": [
    "def input_float(text):\n",
    "    while True:\n",
    "        try:\n",
    "            inp_result = input(text + \" (a: abort)\").strip()\n",
    "            if inp_result == 'a':\n",
    "                raise KeyboardInterrupt(\"Aborted\")\n",
    "            return float(inp_result)\n",
    "        except ValueError:\n",
    "            pass"
   ]
  },
  {
   "cell_type": "code",
   "execution_count": 36,
   "metadata": {},
   "outputs": [],
   "source": [
    "def current_zero(output_on=False):\n",
    "    load.write(\"OUTP OFF\")\n",
    "    assert not scpi_bool(load.query(\"OUTP?\"))\n",
    "    load.write(\"CHAN 1\")\n",
    "    assert load.query(\"CHAN?\") == 1\n",
    "    load.write(\"MODE:CURR\")\n",
    "    assert load.query(\"MODE?\") == \"CURR\"\n",
    "    load.write(\"CURR 0\")\n",
    "    assert np.isclose(load.query(\"CURR?\"), 0)\n",
    "    if output_on:\n",
    "        load.write(\"OUTP ON\")\n",
    "        assert scpi_bool(load.query(\"OUTP?\"))"
   ]
  },
  {
   "cell_type": "markdown",
   "metadata": {},
   "source": [
    "### Calibration functions"
   ]
  },
  {
   "cell_type": "code",
   "execution_count": 37,
   "metadata": {},
   "outputs": [
    {
     "ename": "SyntaxError",
     "evalue": "invalid syntax (1335105121.py, line 8)",
     "output_type": "error",
     "traceback": [
      "\u001b[1;36m  Cell \u001b[1;32mIn[37], line 8\u001b[1;36m\u001b[0m\n\u001b[1;33m    confirm(f\"Connect power supply with settings {cal_set['power_supply']['voltage']}V, {cal_set['power_supply']['current']}A\") or return\u001b[0m\n\u001b[1;37m                                                                                                                                   ^\u001b[0m\n\u001b[1;31mSyntaxError\u001b[0m\u001b[1;31m:\u001b[0m invalid syntax\n"
     ]
    }
   ],
   "source": [
    "def current_calibration(load, cal_set):\n",
    "    curr_range = cal_set[\"current_range\"]\n",
    "    curr_offset = cal_set[\"current_offset\"]\n",
    "    flag = cal_set[\"flag\"]\n",
    "    modifier = cal_set[\"modifier\"]\n",
    "\n",
    "    confirm(f\"CURRENT CALIBRATION for current range {curr_range}A: Proceed?\")\n",
    "    confirm(f\"Connect power supply with settings {cal_set['power_supply']['voltage']}V, {cal_set['power_supply']['current']}A\")\n",
    "    \n",
    "    load.write(\"CHAN 1\")\n",
    "    assert load.query(\"CHAN?\") == 1\n",
    "    load.write(\"MODE:CURR\")\n",
    "    assert load.query(\"MODE?\") == \"CURR\"\n",
    "    load.write(f\"CURR:RANG {curr_range}\")\n",
    "    assert np.isclose(float(load.query(\"CURR:RANG?\")), curr_range, rtol=1e-4, atol=0.001)\n",
    "\n",
    "    # Calibrate Current low point\n",
    "    curr_set = 0.05 * curr_range\n",
    "    load.write(f\"CURR {curr_set}\")\n",
    "    assert np.isclose(float(load.query(\"CURR?\")), curr_set, rtol=1e-4, atol=0.001)\n",
    "    sleep(5)\n",
    "    meas_curr_lo = input_float(f\"Enter current for low point {curr_set} (A)\")\n",
    "    print(f\"Current for low point {curr_set} (A): {meas_curr_lo}\")\n",
    "    assert np.isclose(meas_curr_lo, curr_set, rtol=0.1, atol=0.05)\n",
    "    load.write(f\"CAL:LEV:LOW {meas_curr_lo}\")\n",
    "\n",
    "    # Calibrate Current high point\n",
    "    curr_set = 0.85 * curr_range * modifier\n",
    "    load.write(f\"CURR {curr_set}\")\n",
    "    assert np.isclose(float(load.query(\"CURR?\")), curr_set, rtol=1e-4, atol=0.001)\n",
    "    if flag:\n",
    "        sleep(25)\n",
    "    meas_curr_hi = input_float(f\"Enter current for high point {curr_set} (A)\")\n",
    "    print(f\"Current for high point {curr_set} (A): {meas_curr_hi}\")\n",
    "    assert np.isclose(meas_curr_hi, curr_set, rtol=0.1, atol=0.05)\n",
    "    load.write(f\"CAL:LEV:HIGH {meas_curr_hi}\")\n",
    "    if flag:\n",
    "        load.write(f\"CAL:MEAS:HIGH {meas_curr_hi}\")\n",
    "        sleep(25)\n",
    "    \n",
    "    # offset compensation or something like that\n",
    "    if flag:\n",
    "        curr_set = 4 * curr_range / 3750\n",
    "        load.write(f\"CURR {curr_set}\")\n",
    "        assert np.isclose(float(load.query(\"CURR?\")), curr_set, rtol=1e-4, atol=0.001)\n",
    "        sleep(25)\n",
    "        meas_curr_lo = input_float(f\"Enter current for low point {curr_set} (A)\")\n",
    "        print(f\"Current for low point {curr_set} (A): {meas_curr_lo}\")\n",
    "        assert np.isclose(meas_curr_lo, curr_set, rtol=0.1, atol=0.05)\n",
    "        load.write(f\"CAL:LEV:HIGH {meas_curr_lo - curr_offset}\")\n",
    "        load.write(f\"CAL:MEAS:HIGH {meas_curr_lo}\")\n",
    "    else:\n",
    "        curr_set = 10 * curr_range / 3750\n",
    "        load.write(f\"CURR {curr_set}\")\n",
    "        assert np.isclose(float(load.query(\"CURR?\")), curr_set, rtol=1e-4, atol=0.001)\n",
    "        meas_curr_lo = input_float(f\"Enter current for low point {curr_set} (A)\")\n",
    "        print(f\"Current for low point {curr_set} (A): {meas_curr_lo}\")\n",
    "        assert np.isclose(meas_curr_lo, curr_set, rtol=0.1, atol=0.05)\n",
    "        load.write(f\"CAL:LEV:LOW {meas_curr_lo - curr_offset}\")\n",
    "\n",
    "    confirm(\"Test unit to verify that program and readback values are in spec. Proceed?\")\n",
    "    \n",
    "    # Calibrate transient\n",
    "    curr_set = 0.05 * curr_range\n",
    "    load.write(f\"CURR {curr_set}\")\n",
    "    assert np.isclose(float(load.query(\"CURR?\")), curr_set, rtol=1e-4, atol=0.001)\n",
    "    load.write(\"TRAN:STAT ON;MODE TOGG;:TRIG:SOUR BUS\")\n",
    "    curr_tran_set = 0.85 * curr_range * modifier\n",
    "    load.write(f\"CURR:TLEV {curr_tran_set}\")\n",
    "    assert np.isclose(float(load.query(\"CURR:TLEV?\")), curr_tran_set, rtol=1e-4, atol=0.001)\n",
    "    load.write(\"*TRG\")\n",
    "    if flag:\n",
    "        sleep(30)\n",
    "    meas_trig_curr = input_float(f\"Enter current for transient high point {curr_tran_set} (A)\")\n",
    "    print(f\"Current for transient high point {curr_tran_set} (A): {meas_trig_curr}\")\n",
    "    assert np.isclose(meas_trig_curr, curr_tran_set, rtol=0.1, atol=0.05)\n",
    "    load.write(f\"CAL:TLEV {meas_trig_curr}\")\n",
    "    load.write(\"TRAN OFF\")\n",
    "\n",
    "    confirm(\"Test unit to verify that program and readback values are in spec. Proceed?\")"
   ]
  },
  {
   "cell_type": "code",
   "execution_count": null,
   "metadata": {},
   "outputs": [],
   "source": [
    "def voltage_calibration(load, cal_set):\n",
    "    volt_hi = cal_set[\"voltage_high\"]\n",
    "    volt_lo = cal_set[\"voltage_low\"]\n",
    "\n",
    "    confirm(f\"VOLTAGE-CALIBRATION: Proceed?\")        \n",
    "    confirm(f\"Connect power supply with settings {cal_set['power_supply']['voltage']}V, {cal_set['power_supply']['current']}A\")\n",
    "\n",
    "    load.write(\"CHAN 1\")\n",
    "    assert load.query(\"CHAN?\") == 1\n",
    "    load.write(\"MODE:VOLT\")\n",
    "    assert load.query(\"MODE?\") == \"VOLT\"\n",
    "\n",
    "    # Calibration 5% volt low point\n",
    "    volt_set = 0.05 * volt_hi\n",
    "    load.write(f\"VOLT {volt_set}\")\n",
    "    assert np.isclose(float(load.query(\"VOLT?\")), volt_set, rtol=1e-4, atol=0.001)\n",
    "    sleep(5)\n",
    "    meas_volt_lo = input_float(f\"Enter voltage across input terminals for low point {volt_set} (V)\")\n",
    "    print(f\"voltage across input terminals for low point {volt_set} (V): {meas_volt_lo}\")\n",
    "    load.write(f\"CAL:LEV:LOW {meas_volt_lo}\")\n",
    "    load.write(f\"CAL:MEAS:LOW {meas_volt_lo}\")\n",
    "    \n",
    "    # Calibration 85% volt high point\n",
    "    volt_set = 0.85 * volt_hi\n",
    "    load.write(f\"VOLT {volt_set}\")\n",
    "    assert np.isclose(float(load.query(\"VOLT?\")), volt_set, rtol=1e-4, atol=0.001)\n",
    "    sleep(5)\n",
    "    meas_volt_hi = input_float(f\"Enter voltage across input terminals for high point {volt_set} (V)\")\n",
    "    print(f\"voltage across input terminals for high point {volt_set} (V): {meas_volt_hi}\")\n",
    "    load.write(f\"CAL:LEV:HIGH {meas_volt_hi}\")\n",
    "    load.write(f\"CAL:MEAS:HIGH {meas_volt_hi}\")\n",
    "\n",
    "    # Calibration volt low point\n",
    "    volt_set = volt_lo\n",
    "    load.write(f\"VOLT {volt_set}\")\n",
    "    assert np.isclose(float(load.query(\"VOLT?\")), volt_set, rtol=1e-4, atol=0.001)\n",
    "    sleep(5)\n",
    "    meas_volt_lo = input_float(f\"Enter voltage across input terminals for low point {volt_set} (V)\")\n",
    "    print(f\"voltage across input terminals for low point {volt_set} (V): {meas_volt_lo}\")\n",
    "    load.write(f\"CAL:LEV:LOW {meas_volt_lo}\")\n",
    "    load.write(f\"CAL:MEAS:LOW {meas_volt_lo}\")\n",
    "    \n",
    "    # Calibration volt high point\n",
    "    volt_set = volt_hi\n",
    "    load.write(f\"VOLT {volt_set}\")\n",
    "    assert np.isclose(float(load.query(\"VOLT?\")), volt_set, rtol=1e-4, atol=0.001)\n",
    "    sleep(5)\n",
    "    meas_volt_hi = input_float(f\"Enter voltage across input terminals for high point {volt_set} (V)\")\n",
    "    print(f\"voltage across input terminals for high point {volt_set} (V): {meas_volt_hi}\")\n",
    "    load.write(f\"CAL:LEV:HIGH {meas_volt_hi}\")\n",
    "    load.write(f\"CAL:MEAS:HIGH {meas_volt_hi}\")\n",
    "    \n",
    "    # Calibrate transient level\n",
    "    input(\"Test unit to verify that program and readback values are in spec. Proceed?\")\n",
    "    volt_set = volt_lo\n",
    "    load.write(f\"VOLT {volt_set}\")\n",
    "    assert np.isclose(float(load.query(\"VOLT?\")), volt_set, rtol=1e-4, atol=0.001)\n",
    "    load.write(\"TRAN:STAT ON;MODE TOGG;:TRIG:SOUR BUS\")\n",
    "    volt_tran_set = volt_hi\n",
    "    load.write(f\"VOLT:TLEV {volt_tran_set}\")\n",
    "    assert np.isclose(float(load.query(\"VOLT:TLEV?\")), volt_tran_set, rtol=1e-4, atol=0.001)\n",
    "    load.write(\"*TRG\")\n",
    "    meas_tran_volt = input_float(f\"Enter voltage for transient high point {volt_tran_set} (V)\")\n",
    "    print(f\"voltage across input terminals for transient high point {volt_tran_set} (V): {meas_tran_volt}\")\n",
    "    assert np.isclose(meas_tran_volt, volt_tran_set, rtol=0.1, atol=0.05)\n",
    "    load.write(f\"CAL:TLEV {meas_tran_volt}\")\n",
    "    load.write(\"TRAN OFF\")\n",
    "    \n",
    "    confirm(\"Test unit to verify that program and readback values are in spec. Proceed?\")"
   ]
  },
  {
   "cell_type": "code",
   "execution_count": null,
   "metadata": {},
   "outputs": [],
   "source": [
    "def resistance_calibration(load, cal_set):\n",
    "    res_range = cal_set[\"res_range\"]\n",
    "    res_hi = cal_set[\"res_high\"]\n",
    "    res_lo = cal_set[\"res_low\"] * cal_set[\"modifier\"]\n",
    "    flag = cal_set[\"flag\"]\n",
    "\n",
    "    confirm(f\"RESISTANCE CALIBRATION for resistance range {res_range} Ohm. Proceed?\")\n",
    "    confirm(f\"Connect power supply with settings {cal_set['power_supply']['voltage']}V, {cal_set['power_supply']['current']}A\")\n",
    "\n",
    "    load.write(\"CHAN 1\")\n",
    "    assert load.query(\"CHAN?\") == 1\n",
    "    load.write(\"MODE:RES\")\n",
    "    assert load.query(\"MODE?\") == \"RES\"\n",
    "    load.write(f\"RES:RANG {res_range}\")\n",
    "\n",
    "    # Calibration res high point\n",
    "    res_set = res_hi\n",
    "    load.write(f\"RES {res_set}\")\n",
    "    assert np.isclose(float(load.query(\"RES?\")), res_set, rtol=1e-2, atol=0.001)\n",
    "    sleep(5)\n",
    "    meas_volt_hi = input_float(f\"Enter voltage across input terminals for high point {res_set} Ohm (V)\")\n",
    "    print(f\"voltage across input terminals for high point {res_set} Ohm (V): {meas_volt_hi}\")\n",
    "    meas_curr_hi = input_float(f\"Enter current for high point {res_set} Ohm (A)\")\n",
    "    print(f\"current for high point {res_set} Ohm (A): {meas_curr_hi}\")\n",
    "    calc_res_hi = meas_volt_hi / meas_curr_hi\n",
    "    load.write(f\"CAL:LEV:HIGH {calc_res_hi}\")\n",
    "        \n",
    "    # Calibration res low point\n",
    "    res_set = res_lo\n",
    "    load.write(f\"RES {res_set}\")\n",
    "    assert np.isclose(float(load.query(\"RES?\")), res_set, rtol=1e-2, atol=0.001)\n",
    "    sleep(5)\n",
    "    meas_volt_lo = input_float(f\"Enter voltage across input terminals for low point {res_set} Ohm (V)\")\n",
    "    print(f\"voltage across input terminals for low point {res_set} Ohm (V): {meas_volt_lo}\")\n",
    "    meas_curr_lo = input_float(f\"Enter current for low point {res_set} Ohm (A)\")\n",
    "    print(f\"current for high point {res_set} Ohm (A): {meas_curr_lo}\")\n",
    "    cal_res_lo = meas_volt_lo / meas_curr_lo\n",
    "    load.write(f\"CAL:LEV:LOW {cal_res_lo}\")\n",
    "\n",
    "    confirm(\"Test unit to verify that program and readback values are in spec. Proceed?\")\n",
    "\n",
    "    # Calibrate transient level\n",
    "    res_set = res_hi if flag else res_lo\n",
    "    load.write(f\"RES {res_set}\")\n",
    "    assert np.isclose(float(load.query(\"RES?\")), res_set, rtol=1e-2, atol=0.001)\n",
    "    load.write(\"TRAN:STAT ON;MODE TOGG;:TRIG:SOUR BUS\")\n",
    "    res_tran_set = res_lo if flag else res_hi\n",
    "    load.write(f\"RES:TLEV {res_tran_set}\")\n",
    "    assert np.isclose(float(load.query(\"RES:TLEV?\")), res_tran_set, rtol=1e-2, atol=0.001)\n",
    "    load.write(\"*TRG\")\n",
    "\n",
    "    meas_tran_volt = input_float(f\"Enter voltage for transient high point {res_tran_set} (V)\")\n",
    "    print(f\"voltage across input terminals for transient high point {res_tran_set} Ohm (V): {meas_tran_volt}\")\n",
    "    meas_tran_curr = input_float(f\"Enter current for transient high point {res_tran_set} (A)\")\n",
    "    print(f\"current for transient high point {res_tran_set} Ohm (A): {meas_tran_curr}\")\n",
    "    calc_tran_res = meas_tran_volt / meas_tran_curr\n",
    "    assert np.isclose(calc_tran_res, res_tran_set, rtol=0.1, atol=0.05)\n",
    "    load.write(f\"CAL:TLEV {calc_tran_res}\")\n",
    "    load.write(\"TRAN OFF\")\n",
    "    \n",
    "    confirm(\"Test unit to verify that program and readback values are in spec. Proceed?\")"
   ]
  },
  {
   "cell_type": "markdown",
   "metadata": {},
   "source": [
    "## Perform adjustment"
   ]
  },
  {
   "cell_type": "code",
   "execution_count": null,
   "metadata": {},
   "outputs": [],
   "source": [
    "rm = pyvisa.ResourceManager()\n",
    "res = rm.list_resources()\n",
    "res"
   ]
  },
  {
   "cell_type": "code",
   "execution_count": null,
   "metadata": {},
   "outputs": [],
   "source": [
    "load = open_scpi_device(rm, load_res_id, \"HEWLETT-PACKARD,6060B\")\n",
    "setup_scpi_device(load)"
   ]
  },
  {
   "cell_type": "code",
   "execution_count": null,
   "metadata": {},
   "outputs": [],
   "source": [
    "# Prepare calibration\n",
    "load.write(\"CAL OFF\")\n",
    "load.write(\"CAL ON\")\n",
    "current_zero(output_on=True)"
   ]
  },
  {
   "cell_type": "code",
   "execution_count": null,
   "metadata": {},
   "outputs": [],
   "source": [
    "# Run through all calibration steps\n",
    "current_calibration(load, cal_set_curr_rng_hi, 1)\n",
    "current_calibration(load, cal_set_curr_rng_lo, 1)\n",
    "voltage_calibration(load, cal_set_volt)\n",
    "resistance_calibration(load, cal_set_res_rng_lo, 1)\n",
    "resistance_calibration(load, cal_set_res_rng_med, 1)\n",
    "resistance_calibration(load, cal_set_res_rng_hi, 2)"
   ]
  },
  {
   "cell_type": "code",
   "execution_count": null,
   "metadata": {},
   "outputs": [],
   "source": [
    "# Finalize calibration\n",
    "if cal_save:\n",
    "    load.write(\"CAL:SAVE\")\n",
    "    load.write(\"CAL OFF\")"
   ]
  },
  {
   "cell_type": "code",
   "execution_count": null,
   "metadata": {},
   "outputs": [],
   "source": [
    "current_zero()\n",
    "confirm(\"Switch unit off. Some internal values are not re-calculated until the unit was power cycled. Ok\")"
   ]
  }
 ],
 "metadata": {
  "kernelspec": {
   "display_name": ".scpi_com",
   "language": "python",
   "name": "python3"
  },
  "language_info": {
   "codemirror_mode": {
    "name": "ipython",
    "version": 3
   },
   "file_extension": ".py",
   "mimetype": "text/x-python",
   "name": "python",
   "nbconvert_exporter": "python",
   "pygments_lexer": "ipython3",
   "version": "3.11.1"
  },
  "orig_nbformat": 4
 },
 "nbformat": 4,
 "nbformat_minor": 2
}
